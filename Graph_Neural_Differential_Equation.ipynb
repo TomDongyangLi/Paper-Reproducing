{
  "cells": [
    {
      "cell_type": "markdown",
      "metadata": {
        "id": "yVQI1AEDTTiQ"
      },
      "source": [
        " # Graph Neural Ordinary Differential Equations Poli et al. 2019.\n",
        " Goal: Reproduce the Node classification experiment in this paper.\n",
        "\n",
        "Here is the their code: https://github.com/Zymrael/gde"
      ]
    },
    {
      "cell_type": "markdown",
      "metadata": {
        "id": "X0K9acSbczIF"
      },
      "source": [
        "# 1. Import all the packages"
      ]
    },
    {
      "cell_type": "code",
      "execution_count": 1,
      "metadata": {
        "id": "7pXvZ92MWJHw"
      },
      "outputs": [],
      "source": [
        "import math\n",
        "import torch\n",
        "import torch.nn as nn\n",
        "import torch.nn.functional as F\n",
        "import matplotlib.pyplot as plt\n",
        "import networkx as nx"
      ]
    },
    {
      "cell_type": "markdown",
      "metadata": {
        "id": "Lv6Bw1_9c3bF"
      },
      "source": [
        "## 1.1 Install the Deep Graph Library (DGL), which include datasets we need.\n"
      ]
    },
    {
      "cell_type": "code",
      "execution_count": 2,
      "metadata": {
        "colab": {
          "base_uri": "https://localhost:8080/"
        },
        "id": "myK-MmQGWVEK",
        "outputId": "697ae363-e571-4aba-fcd6-d535f47f7cff"
      },
      "outputs": [
        {
          "name": "stdout",
          "output_type": "stream",
          "text": [
            "Requirement already satisfied: dgl in /Users/lidongyang/opt/anaconda3/lib/python3.9/site-packages (1.1.2.post1)\n",
            "Requirement already satisfied: psutil>=5.8.0 in /Users/lidongyang/opt/anaconda3/lib/python3.9/site-packages (from dgl) (5.9.0)\n",
            "Requirement already satisfied: numpy>=1.14.0 in /Users/lidongyang/opt/anaconda3/lib/python3.9/site-packages (from dgl) (1.21.5)\n",
            "Requirement already satisfied: tqdm in /Users/lidongyang/opt/anaconda3/lib/python3.9/site-packages (from dgl) (4.64.1)\n",
            "Requirement already satisfied: networkx>=2.1 in /Users/lidongyang/opt/anaconda3/lib/python3.9/site-packages (from dgl) (2.8.4)\n",
            "Requirement already satisfied: scipy>=1.1.0 in /Users/lidongyang/opt/anaconda3/lib/python3.9/site-packages (from dgl) (1.9.1)\n",
            "Requirement already satisfied: requests>=2.19.0 in /Users/lidongyang/opt/anaconda3/lib/python3.9/site-packages (from dgl) (2.28.1)\n",
            "Requirement already satisfied: certifi>=2017.4.17 in /Users/lidongyang/opt/anaconda3/lib/python3.9/site-packages (from requests>=2.19.0->dgl) (2022.9.24)\n",
            "Requirement already satisfied: urllib3<1.27,>=1.21.1 in /Users/lidongyang/opt/anaconda3/lib/python3.9/site-packages (from requests>=2.19.0->dgl) (1.26.11)\n",
            "Requirement already satisfied: idna<4,>=2.5 in /Users/lidongyang/opt/anaconda3/lib/python3.9/site-packages (from requests>=2.19.0->dgl) (3.3)\n",
            "Requirement already satisfied: charset-normalizer<3,>=2 in /Users/lidongyang/opt/anaconda3/lib/python3.9/site-packages (from requests>=2.19.0->dgl) (2.0.4)\n"
          ]
        }
      ],
      "source": [
        "pip install dgl"
      ]
    },
    {
      "cell_type": "code",
      "execution_count": 3,
      "metadata": {
        "colab": {
          "base_uri": "https://localhost:8080/"
        },
        "id": "NTmh38vpXb-C",
        "outputId": "eecb2233-7dac-4ae3-8b22-3f6d67247ffb"
      },
      "outputs": [],
      "source": [
        "import dgl\n",
        "import dgl.data"
      ]
    },
    {
      "cell_type": "markdown",
      "metadata": {
        "id": "SUC3qCeiXvyq"
      },
      "source": [
        "# 2. Data Preparation\n",
        "\n",
        "## 2.1 Cora dataset\n",
        "\n",
        "USed to do Node Classification Task"
      ]
    },
    {
      "cell_type": "code",
      "execution_count": 4,
      "metadata": {
        "colab": {
          "base_uri": "https://localhost:8080/"
        },
        "id": "1Ng4RICgv20w",
        "outputId": "fc3300e7-4bfc-4496-8fd5-cb07f1d4ae6b"
      },
      "outputs": [
        {
          "name": "stdout",
          "output_type": "stream",
          "text": [
            "cpu\n"
          ]
        }
      ],
      "source": [
        "device = 'cuda' if torch.cuda.is_available() else 'cpu'\n",
        "print(device)"
      ]
    },
    {
      "cell_type": "code",
      "execution_count": 5,
      "metadata": {
        "colab": {
          "base_uri": "https://localhost:8080/",
          "height": 243,
          "referenced_widgets": [
            "dc0b874c4f5a4627979bfdaabc87476b",
            "ecff7111ca97492fa612d434a5cac156",
            "630bfa3e1bb44a97ac9c2e427fb03e95",
            "ee2690ccac154dc1b41951d99ec296ee",
            "b47ed4ff499d4fa6a6734342012ea0b4",
            "388f7b104b114e7aa0dc09f81aa8881b",
            "1a143b0c7b8a461fa84dc0a43a6a27f9",
            "e7d6a0c5108f4f85af000c2abb197a43",
            "7f7c80f704724040bec5a26d61a32458",
            "8ce5b693531b4d0090eb74ce8a342bf3",
            "8fadd824cda04d16b17da45d31e07f17"
          ]
        },
        "id": "smsE6lHIXgy_",
        "outputId": "54d77914-3da4-4d3c-c62a-6f3fb48da206"
      },
      "outputs": [
        {
          "name": "stdout",
          "output_type": "stream",
          "text": [
            "  NumNodes: 2708\n",
            "  NumEdges: 10556\n",
            "  NumFeats: 1433\n",
            "  NumClasses: 7\n",
            "  NumTrainingSamples: 140\n",
            "  NumValidationSamples: 500\n",
            "  NumTestSamples: 1000\n",
            "Done loading data from cached files.\n"
          ]
        }
      ],
      "source": [
        "dataset = dgl.data.CoraGraphDataset()"
      ]
    },
    {
      "cell_type": "code",
      "execution_count": 6,
      "metadata": {
        "colab": {
          "base_uri": "https://localhost:8080/"
        },
        "id": "LlX2c6qrX43B",
        "outputId": "c686869f-dd2c-47eb-8399-dd18c3f20d78"
      },
      "outputs": [
        {
          "name": "stdout",
          "output_type": "stream",
          "text": [
            "Graph(num_nodes=2708, num_edges=10556,\n",
            "      ndata_schemes={'feat': Scheme(shape=(1433,), dtype=torch.float32), 'label': Scheme(shape=(), dtype=torch.int64), 'val_mask': Scheme(shape=(), dtype=torch.bool), 'test_mask': Scheme(shape=(), dtype=torch.bool), 'train_mask': Scheme(shape=(), dtype=torch.bool)}\n",
            "      edata_schemes={})\n"
          ]
        }
      ],
      "source": [
        "data = dataset[0] #only one graph is contained in this dataset\n",
        "print(data)"
      ]
    },
    {
      "cell_type": "code",
      "execution_count": 7,
      "metadata": {
        "colab": {
          "base_uri": "https://localhost:8080/"
        },
        "id": "6ZY_HeHpYIcM",
        "outputId": "0f1e3e9f-bdf7-4260-ff70-5ceca6be5b5f"
      },
      "outputs": [
        {
          "name": "stdout",
          "output_type": "stream",
          "text": [
            "dimension of node features is  1433\n",
            "number of classes is  7\n"
          ]
        }
      ],
      "source": [
        "X = data.ndata['feat'].to(device)   # feature matrix\n",
        "Y = data.ndata['label'].to(device)  # true classification label of each node\n",
        "print('dimension of node features is ',X.shape[1])\n",
        "print('number of classes is ',dataset.num_classes)"
      ]
    },
    {
      "cell_type": "code",
      "execution_count": 8,
      "metadata": {
        "colab": {
          "base_uri": "https://localhost:8080/"
        },
        "id": "Y7VKoM9PbSeF",
        "outputId": "6695f6b7-04e8-44b0-fe9a-4f938b97f3c4"
      },
      "outputs": [
        {
          "name": "stdout",
          "output_type": "stream",
          "text": [
            "training set    140\n",
            "testing set     1000\n",
            "validation set  500\n"
          ]
        }
      ],
      "source": [
        "train_mask  = data.ndata['train_mask']\n",
        "test_mask   = data.ndata['test_mask']\n",
        "val_mask    = data.ndata['val_mask']\n",
        "print('training set   ', train_mask.sum().item())\n",
        "print('testing set    ',test_mask.sum().item())\n",
        "print('validation set ',val_mask.sum().item())"
      ]
    },
    {
      "cell_type": "code",
      "execution_count": 9,
      "metadata": {
        "colab": {
          "base_uri": "https://localhost:8080/"
        },
        "id": "d4cBqBdjZ5Ro",
        "outputId": "231a0fb1-018e-41cb-ed7e-95c934f30295"
      },
      "outputs": [
        {
          "name": "stdout",
          "output_type": "stream",
          "text": [
            "tensor([[   0,    0,    0,  ..., 2707, 2707, 2707],\n",
            "        [ 633, 1862, 2582,  ...,  598, 1473, 2706]])\n"
          ]
        }
      ],
      "source": [
        "adj_mat = data.adj().indices().to(device) # adjacency matrix edge index, used in GCN layer\n",
        "print(adj_mat)"
      ]
    },
    {
      "cell_type": "markdown",
      "metadata": {
        "id": "V0J7eA1Qq6ut"
      },
      "source": [
        "# 3. Model Construction\n",
        "\n",
        "## 3.1 install torchdiffeq\n"
      ]
    },
    {
      "cell_type": "code",
      "execution_count": 10,
      "metadata": {
        "colab": {
          "base_uri": "https://localhost:8080/"
        },
        "id": "EVo2aZ92gXG1",
        "outputId": "f939b9d0-be58-4406-e4b5-7eeb7d8d2cc2"
      },
      "outputs": [
        {
          "name": "stdout",
          "output_type": "stream",
          "text": [
            "Requirement already satisfied: torchdiffeq in /Users/lidongyang/opt/anaconda3/lib/python3.9/site-packages (0.2.3)\n",
            "Requirement already satisfied: scipy>=1.4.0 in /Users/lidongyang/opt/anaconda3/lib/python3.9/site-packages (from torchdiffeq) (1.9.1)\n",
            "Requirement already satisfied: torch>=1.3.0 in /Users/lidongyang/opt/anaconda3/lib/python3.9/site-packages (from torchdiffeq) (1.13.1)\n",
            "Requirement already satisfied: numpy<1.25.0,>=1.18.5 in /Users/lidongyang/opt/anaconda3/lib/python3.9/site-packages (from scipy>=1.4.0->torchdiffeq) (1.21.5)\n",
            "Requirement already satisfied: typing_extensions in /Users/lidongyang/opt/anaconda3/lib/python3.9/site-packages (from torch>=1.3.0->torchdiffeq) (4.3.0)\n"
          ]
        }
      ],
      "source": [
        "pip install torchdiffeq\n",
        "from torchdiffeq import odeint"
      ]
    },
    {
      "cell_type": "code",
      "execution_count": 11,
      "metadata": {
        "colab": {
          "base_uri": "https://localhost:8080/"
        },
        "id": "9r0a5c9YZUWg",
        "outputId": "b3aa6333-3027-4974-9831-97763224c5ed"
      },
      "outputs": [
        {
          "name": "stdout",
          "output_type": "stream",
          "text": [
            "Collecting torch-geometric\n",
            "  Downloading torch_geometric-2.5.1-py3-none-any.whl (1.1 MB)\n",
            "\u001b[2K     \u001b[90m━━━━━━━━━━━━━━━━━━━━━━━━━━━━━━━━━━━━━━━━\u001b[0m \u001b[32m1.1/1.1 MB\u001b[0m \u001b[31m19.2 MB/s\u001b[0m eta \u001b[36m0:00:00\u001b[0ma \u001b[36m0:00:01\u001b[0m\n",
            "\u001b[?25hRequirement already satisfied: tqdm in /Users/lidongyang/opt/anaconda3/lib/python3.9/site-packages (from torch-geometric) (4.64.1)\n",
            "Requirement already satisfied: jinja2 in /Users/lidongyang/opt/anaconda3/lib/python3.9/site-packages (from torch-geometric) (2.11.3)\n",
            "Collecting aiohttp\n",
            "  Downloading aiohttp-3.9.3-cp39-cp39-macosx_10_9_x86_64.whl (398 kB)\n",
            "\u001b[2K     \u001b[90m━━━━━━━━━━━━━━━━━━━━━━━━━━━━━━━━━━━━━━\u001b[0m \u001b[32m398.8/398.8 kB\u001b[0m \u001b[31m16.4 MB/s\u001b[0m eta \u001b[36m0:00:00\u001b[0m\n",
            "\u001b[?25hRequirement already satisfied: psutil>=5.8.0 in /Users/lidongyang/opt/anaconda3/lib/python3.9/site-packages (from torch-geometric) (5.9.0)\n",
            "Requirement already satisfied: fsspec in /Users/lidongyang/opt/anaconda3/lib/python3.9/site-packages (from torch-geometric) (2022.7.1)\n",
            "Requirement already satisfied: scikit-learn in /Users/lidongyang/opt/anaconda3/lib/python3.9/site-packages (from torch-geometric) (1.0.2)\n",
            "Requirement already satisfied: pyparsing in /Users/lidongyang/opt/anaconda3/lib/python3.9/site-packages (from torch-geometric) (3.0.9)\n",
            "Requirement already satisfied: numpy in /Users/lidongyang/opt/anaconda3/lib/python3.9/site-packages (from torch-geometric) (1.21.5)\n",
            "Requirement already satisfied: scipy in /Users/lidongyang/opt/anaconda3/lib/python3.9/site-packages (from torch-geometric) (1.9.1)\n",
            "Requirement already satisfied: requests in /Users/lidongyang/opt/anaconda3/lib/python3.9/site-packages (from torch-geometric) (2.28.1)\n",
            "Collecting frozenlist>=1.1.1\n",
            "  Downloading frozenlist-1.4.1-cp39-cp39-macosx_10_9_x86_64.whl (55 kB)\n",
            "\u001b[2K     \u001b[90m━━━━━━━━━━━━━━━━━━━━━━━━━━━━━━━━━━━━━━━━\u001b[0m \u001b[32m55.2/55.2 kB\u001b[0m \u001b[31m7.1 MB/s\u001b[0m eta \u001b[36m0:00:00\u001b[0m\n",
            "\u001b[?25hRequirement already satisfied: attrs>=17.3.0 in /Users/lidongyang/opt/anaconda3/lib/python3.9/site-packages (from aiohttp->torch-geometric) (21.4.0)\n",
            "Collecting yarl<2.0,>=1.0\n",
            "  Downloading yarl-1.9.4-cp39-cp39-macosx_10_9_x86_64.whl (83 kB)\n",
            "\u001b[2K     \u001b[90m━━━━━━━━━━━━━━━━━━━━━━━━━━━━━━━━━━━━━━━━\u001b[0m \u001b[32m83.7/83.7 kB\u001b[0m \u001b[31m9.1 MB/s\u001b[0m eta \u001b[36m0:00:00\u001b[0m\n",
            "\u001b[?25hCollecting async-timeout<5.0,>=4.0\n",
            "  Downloading async_timeout-4.0.3-py3-none-any.whl (5.7 kB)\n",
            "Collecting multidict<7.0,>=4.5\n",
            "  Downloading multidict-6.0.5-cp39-cp39-macosx_10_9_x86_64.whl (30 kB)\n",
            "Collecting aiosignal>=1.1.2\n",
            "  Downloading aiosignal-1.3.1-py3-none-any.whl (7.6 kB)\n",
            "Requirement already satisfied: MarkupSafe>=0.23 in /Users/lidongyang/opt/anaconda3/lib/python3.9/site-packages (from jinja2->torch-geometric) (2.0.1)\n",
            "Requirement already satisfied: idna<4,>=2.5 in /Users/lidongyang/opt/anaconda3/lib/python3.9/site-packages (from requests->torch-geometric) (3.3)\n",
            "Requirement already satisfied: charset-normalizer<3,>=2 in /Users/lidongyang/opt/anaconda3/lib/python3.9/site-packages (from requests->torch-geometric) (2.0.4)\n",
            "Requirement already satisfied: urllib3<1.27,>=1.21.1 in /Users/lidongyang/opt/anaconda3/lib/python3.9/site-packages (from requests->torch-geometric) (1.26.11)\n",
            "Requirement already satisfied: certifi>=2017.4.17 in /Users/lidongyang/opt/anaconda3/lib/python3.9/site-packages (from requests->torch-geometric) (2022.9.24)\n",
            "Requirement already satisfied: threadpoolctl>=2.0.0 in /Users/lidongyang/opt/anaconda3/lib/python3.9/site-packages (from scikit-learn->torch-geometric) (2.2.0)\n",
            "Requirement already satisfied: joblib>=0.11 in /Users/lidongyang/opt/anaconda3/lib/python3.9/site-packages (from scikit-learn->torch-geometric) (1.1.0)\n",
            "Installing collected packages: multidict, frozenlist, async-timeout, yarl, aiosignal, aiohttp, torch-geometric\n",
            "Successfully installed aiohttp-3.9.3 aiosignal-1.3.1 async-timeout-4.0.3 frozenlist-1.4.1 multidict-6.0.5 torch-geometric-2.5.1 yarl-1.9.4\n"
          ]
        }
      ],
      "source": [
        "pip install torch-geometric\n",
        "from torch_geometric.nn import GCNConv"
      ]
    },
    {
      "cell_type": "markdown",
      "metadata": {
        "id": "A9Ed40iN6cRK"
      },
      "source": [
        "## 3.1 build our model\n",
        "\n",
        "Totally 4 layers:\n",
        "\n",
        "* First layer is a GCN layer with dropout rate 0.4, activation function Relu. (input_dim = dim_feature,output_dim = 64)\n",
        "  * This first layer is just used to reduce the dimension of the node features.\n",
        "* ODE step:\n",
        "  * Construct a two-layer model, each is a GCN layer with dropout rate 0.9, activation function Softplus. (input_dim = 64,output_dim=64)\n",
        "  * apply odeint for this model\n",
        "  * the output of this step is the final embedding of nodes\n",
        "* Last layer is a GCN layer with no dropout and no activation function. (input_dim = 64,output_dim=num_classes)\n",
        "  * this last layer works like classifcation layer.\n",
        "\n"
      ]
    },
    {
      "cell_type": "code",
      "execution_count": 34,
      "metadata": {
        "id": "gp2BWJ_bq-eg"
      },
      "outputs": [],
      "source": [
        "class GCNLayer(nn.Module):\n",
        "  def __init__(self,in_dim,out_dim,activation,dropout):\n",
        "    super(GCNLayer, self).__init__()\n",
        "    self.convs = GCNConv(in_dim,out_dim,normalize=True)\n",
        "    self.convs.bias = nn.Parameter(torch.Tensor(out_dim))\n",
        "    self.convs.lin.weight = nn.Parameter(torch.Tensor(out_dim, in_dim))\n",
        "\n",
        "    self.activation = activation\n",
        "    self.dropout = nn.Dropout(p=dropout)\n",
        "    self.reset_parameters()\n",
        "\n",
        "  def reset_parameters(self):\n",
        "    stdv = 1. / math.sqrt(self.convs.lin.weight.size(1))\n",
        "    self.convs.lin.weight.data.uniform_(-stdv, stdv)\n",
        "    if self.convs.bias is not None:\n",
        "      self.convs.bias.data.uniform_(-stdv, stdv)\n",
        "\n",
        "\n",
        "  def forward(self, h, adj):\n",
        "    if self.dropout:\n",
        "      h = self.dropout(h)\n",
        "\n",
        "    h = self.convs(h,adj)\n",
        "\n",
        "    if self.activation:\n",
        "      h = self.activation(h)\n",
        "\n",
        "    return h\n",
        "\n",
        "\n",
        "class GCNfunc(nn.Module):\n",
        "  def __init__(self, adj, hidden_dim, activation, method):\n",
        "    super(GCNfunc,self).__init__()\n",
        "\n",
        "    self.adj = adj\n",
        "    self.hidden_layers = torch.nn.ModuleList()\n",
        "\n",
        "    if method == 'dopri5':\n",
        "      self.hidden_layers.append(GCNLayer(hidden_dim, hidden_dim, activation, dropout = 0.9))\n",
        "    else:\n",
        "      self.hidden_layers.append(GCNLayer(hidden_dim, hidden_dim, activation, dropout = 0.9))\n",
        "      self.hidden_layers.append(GCNLayer(hidden_dim, hidden_dim, activation = None, dropout = 0.9))\n",
        "\n",
        "  def forward(self,t,h):\n",
        "    for i in range(len(self.hidden_layers)):\n",
        "      h = self.hidden_layers[i](h,self.adj)\n",
        "    return h\n",
        "\n",
        "\n",
        "\n",
        "class GCDE(nn.Module):\n",
        "  def __init__(self, adj, input_dim, hidden_dim,output_dim, activation, method, s, rtol, atol):\n",
        "    super(GCDE, self).__init__()\n",
        "\n",
        "\n",
        "    self.adj = adj\n",
        "    self.method = method\n",
        "    self.integration_time = torch.tensor([0, s]).float().to(device)\n",
        "    self.rtol = rtol\n",
        "    self.atol = atol\n",
        "\n",
        "\n",
        "    self.input_layer = GCNLayer(input_dim, hidden_dim, F.relu, dropout = 0.6)\n",
        "\n",
        "    self.odefunc = GCNfunc(self.adj,hidden_dim,activation,method)\n",
        "\n",
        "    self.output_layer = GCNLayer(hidden_dim,output_dim, activation = None, dropout = 0)\n",
        "\n",
        "\n",
        "  def forward(self,h):\n",
        "    h = self.input_layer(h,self.adj)\n",
        "    h = odeint(self.odefunc, h, self.integration_time,rtol=self.rtol, atol=self.atol, method=self.method)[-1]\n",
        "    h = self.output_layer(h,self.adj)\n",
        "\n",
        "    return h\n",
        "\n",
        "\n",
        "\n"
      ]
    },
    {
      "cell_type": "code",
      "execution_count": 35,
      "metadata": {
        "id": "0rtC8qE5eqHU"
      },
      "outputs": [],
      "source": [
        "model = GCDE(adj_mat,X.shape[1],64,dataset.num_classes,nn.Softplus(),method = 'rk4',s=1,rtol=1e-4,atol = 1e-3).to(device)"
      ]
    },
    {
      "cell_type": "code",
      "execution_count": 36,
      "metadata": {
        "colab": {
          "base_uri": "https://localhost:8080/"
        },
        "id": "taI6eymmGCt6",
        "outputId": "711ba678-c33a-419d-ae10-8d36ad48d3b5"
      },
      "outputs": [
        {
          "name": "stdout",
          "output_type": "stream",
          "text": [
            "Name: input_layer.convs.bias, Value: Parameter containing:\n",
            "tensor([-0.0079,  0.0242,  0.0033,  0.0064,  0.0060, -0.0162,  0.0164, -0.0039,\n",
            "        -0.0247, -0.0188, -0.0038, -0.0075, -0.0235,  0.0184, -0.0253,  0.0112,\n",
            "        -0.0251, -0.0220,  0.0159,  0.0109, -0.0130,  0.0216, -0.0201, -0.0137,\n",
            "         0.0065,  0.0245, -0.0026, -0.0206, -0.0117, -0.0233, -0.0168,  0.0054,\n",
            "        -0.0102,  0.0026, -0.0250,  0.0008, -0.0171, -0.0124, -0.0040, -0.0128,\n",
            "        -0.0147, -0.0159, -0.0200, -0.0122, -0.0231, -0.0190,  0.0025,  0.0061,\n",
            "        -0.0029,  0.0153,  0.0223,  0.0023,  0.0149, -0.0049, -0.0204,  0.0173,\n",
            "         0.0154, -0.0253,  0.0063,  0.0102, -0.0069, -0.0225,  0.0011,  0.0168],\n",
            "       requires_grad=True), Shape: torch.Size([64])\n",
            "Name: input_layer.convs.lin.weight, Value: Parameter containing:\n",
            "tensor([[ 2.1463e-02, -1.9985e-03,  1.8877e-02,  ...,  7.1520e-04,\n",
            "          1.4680e-02, -1.2855e-02],\n",
            "        [ 9.2551e-03, -2.4593e-02,  7.9169e-03,  ...,  1.1558e-02,\n",
            "         -1.6500e-02, -1.5078e-02],\n",
            "        [-2.5274e-02,  1.0267e-02,  2.1416e-02,  ..., -1.6389e-02,\n",
            "          7.2854e-03, -1.4026e-02],\n",
            "        ...,\n",
            "        [-2.5306e-02, -2.3118e-02,  8.0803e-05,  ..., -1.9232e-02,\n",
            "         -1.8874e-02,  9.8822e-03],\n",
            "        [ 8.2825e-03,  1.9549e-02,  1.8804e-02,  ..., -5.9587e-03,\n",
            "         -2.0778e-02, -1.3564e-03],\n",
            "        [ 1.2588e-02,  2.0101e-02, -1.4085e-02,  ..., -2.2454e-02,\n",
            "         -2.2829e-02,  2.2316e-02]], requires_grad=True), Shape: torch.Size([64, 1433])\n",
            "Name: odefunc.hidden_layers.0.convs.bias, Value: Parameter containing:\n",
            "tensor([-0.0513, -0.0533, -0.0432,  0.0374,  0.0033, -0.1036, -0.0075, -0.0287,\n",
            "         0.0231,  0.1215,  0.0837, -0.0724, -0.1240,  0.0985,  0.0778,  0.0792,\n",
            "         0.0370,  0.0588,  0.0729,  0.0386,  0.0476,  0.0121, -0.0067,  0.0502,\n",
            "        -0.0634, -0.0280, -0.0452, -0.0558, -0.0993, -0.0341, -0.0742, -0.0269,\n",
            "         0.0312, -0.0417, -0.0753, -0.0281,  0.0290, -0.0499, -0.0142, -0.0438,\n",
            "         0.0979,  0.0984, -0.0479, -0.0798,  0.0016, -0.1195,  0.0892, -0.0033,\n",
            "        -0.0441,  0.0237,  0.0613, -0.0610,  0.1188, -0.0859,  0.0231, -0.0509,\n",
            "         0.0665,  0.0457, -0.1141,  0.0549,  0.0139, -0.0293,  0.0434, -0.0337],\n",
            "       requires_grad=True), Shape: torch.Size([64])\n",
            "Name: odefunc.hidden_layers.0.convs.lin.weight, Value: Parameter containing:\n",
            "tensor([[-0.0140,  0.0571,  0.0339,  ...,  0.0149,  0.0476, -0.0940],\n",
            "        [-0.1034, -0.1109, -0.0512,  ...,  0.0636,  0.0698, -0.0496],\n",
            "        [-0.0900,  0.0802,  0.0583,  ..., -0.0477, -0.0099, -0.0287],\n",
            "        ...,\n",
            "        [-0.0803, -0.1170, -0.1163,  ...,  0.1142, -0.1140,  0.0742],\n",
            "        [-0.0108, -0.1027, -0.1163,  ...,  0.1021,  0.0934, -0.0113],\n",
            "        [ 0.0190, -0.1081, -0.0368,  ..., -0.0215, -0.1165, -0.0052]],\n",
            "       requires_grad=True), Shape: torch.Size([64, 64])\n",
            "Name: odefunc.hidden_layers.1.convs.bias, Value: Parameter containing:\n",
            "tensor([ 0.0406,  0.0741,  0.1020,  0.0844, -0.0691,  0.0019,  0.0531,  0.0252,\n",
            "        -0.1136,  0.0141, -0.1058,  0.0713,  0.0823,  0.0602,  0.0053, -0.0257,\n",
            "        -0.0468, -0.0259, -0.0633, -0.0419,  0.0566, -0.0439,  0.0726,  0.1188,\n",
            "        -0.0975,  0.0261,  0.0813,  0.1204, -0.0888,  0.1013, -0.0939,  0.0604,\n",
            "        -0.0866, -0.0973,  0.0541, -0.0411, -0.0766, -0.1012, -0.1080, -0.0627,\n",
            "         0.0307,  0.0095, -0.1172,  0.0475, -0.0640,  0.0052, -0.0945,  0.0768,\n",
            "        -0.1096, -0.0558, -0.1081, -0.0210,  0.0189, -0.0366,  0.0182, -0.0881,\n",
            "         0.1210, -0.0918,  0.0717,  0.0593, -0.0055, -0.0941,  0.0354,  0.1153],\n",
            "       requires_grad=True), Shape: torch.Size([64])\n",
            "Name: odefunc.hidden_layers.1.convs.lin.weight, Value: Parameter containing:\n",
            "tensor([[-0.0148, -0.0158, -0.0497,  ...,  0.1027, -0.1083, -0.1090],\n",
            "        [-0.0484, -0.0912,  0.0747,  ...,  0.0469, -0.0519, -0.1158],\n",
            "        [ 0.0147, -0.0637,  0.0068,  ..., -0.1125, -0.0597, -0.1142],\n",
            "        ...,\n",
            "        [ 0.0221, -0.0409,  0.0608,  ..., -0.0657,  0.0057, -0.0361],\n",
            "        [-0.0475,  0.0292,  0.0140,  ..., -0.0338, -0.0651,  0.0022],\n",
            "        [ 0.0841,  0.0252,  0.1138,  ..., -0.0650, -0.0029,  0.1227]],\n",
            "       requires_grad=True), Shape: torch.Size([64, 64])\n",
            "Name: output_layer.convs.bias, Value: Parameter containing:\n",
            "tensor([-0.1216,  0.0012, -0.0157, -0.0360, -0.1197, -0.0405, -0.0277],\n",
            "       requires_grad=True), Shape: torch.Size([7])\n",
            "Name: output_layer.convs.lin.weight, Value: Parameter containing:\n",
            "tensor([[ 0.0540, -0.0155,  0.0210, -0.0542,  0.1153,  0.0239,  0.0588, -0.0498,\n",
            "          0.0975,  0.0764,  0.0239, -0.1101,  0.0055, -0.0229, -0.0018, -0.0340,\n",
            "          0.0174, -0.0869,  0.0614, -0.0762,  0.0521, -0.1086, -0.0177, -0.1083,\n",
            "         -0.1093, -0.1082, -0.0118, -0.0178,  0.1236,  0.0607,  0.1024, -0.0013,\n",
            "          0.0709, -0.1063, -0.0234,  0.0920,  0.0474, -0.0624, -0.0820, -0.1063,\n",
            "         -0.0126,  0.1078,  0.0657,  0.0723,  0.1214,  0.0793, -0.0382,  0.1100,\n",
            "          0.1056, -0.1128,  0.1033, -0.1203,  0.1228,  0.1171, -0.0591, -0.0521,\n",
            "         -0.0823,  0.0482, -0.0758, -0.0965, -0.1014,  0.1107,  0.0512,  0.0821],\n",
            "        [ 0.0722,  0.0120,  0.0516,  0.1083,  0.1156, -0.0968,  0.1115, -0.0322,\n",
            "         -0.0820,  0.0682, -0.0994, -0.0057,  0.0355,  0.0630,  0.0809, -0.0558,\n",
            "         -0.1010, -0.1113, -0.0003,  0.0791,  0.0173,  0.1064, -0.1223, -0.0041,\n",
            "         -0.0057, -0.0405,  0.0048, -0.0660, -0.0212, -0.0700,  0.0075, -0.0636,\n",
            "         -0.0346,  0.0984,  0.0846,  0.0029,  0.0933, -0.0647, -0.0795, -0.0575,\n",
            "          0.0090, -0.1087, -0.0442,  0.1077,  0.0683, -0.1023, -0.1207,  0.1250,\n",
            "          0.0234, -0.0998,  0.0816,  0.0644, -0.0231, -0.0388,  0.0337, -0.0354,\n",
            "          0.0891, -0.1191,  0.0292,  0.0819, -0.0054, -0.0139,  0.0671,  0.0938],\n",
            "        [ 0.0750, -0.0376,  0.0820, -0.0526, -0.0160,  0.0971,  0.0255,  0.0093,\n",
            "         -0.0820, -0.0436, -0.1249,  0.0761, -0.1192,  0.0729,  0.1004, -0.0458,\n",
            "         -0.1027, -0.0127,  0.0483, -0.0093, -0.0820,  0.1154, -0.0274,  0.1135,\n",
            "         -0.1116,  0.0664,  0.0976,  0.0360, -0.1044,  0.1190,  0.0173,  0.0606,\n",
            "          0.0101, -0.0716, -0.0300, -0.0584, -0.0717, -0.0626,  0.0470, -0.0650,\n",
            "         -0.0095,  0.0731,  0.0410, -0.0999, -0.0033, -0.0942,  0.0076, -0.0037,\n",
            "          0.1039, -0.0934, -0.0391,  0.0071, -0.0273,  0.0160,  0.1022, -0.0643,\n",
            "         -0.0116,  0.0909,  0.0538, -0.1021, -0.1205, -0.1063,  0.0374,  0.0012],\n",
            "        [ 0.0091, -0.0390, -0.0495,  0.0400, -0.0173, -0.0400, -0.1051, -0.0495,\n",
            "         -0.1078,  0.1051, -0.0315,  0.0463, -0.0504,  0.0545,  0.0044,  0.0160,\n",
            "          0.1095,  0.0518, -0.0069, -0.0629, -0.0956, -0.0597,  0.1221,  0.0050,\n",
            "          0.0503,  0.0624,  0.0989, -0.1181,  0.0425, -0.0314,  0.1226, -0.0884,\n",
            "         -0.0593, -0.0186, -0.0227,  0.0819,  0.1241,  0.1035, -0.0948, -0.1113,\n",
            "         -0.0978, -0.0275, -0.0456, -0.0615,  0.1110, -0.0708, -0.0956, -0.0841,\n",
            "          0.0241, -0.1060,  0.0393,  0.1235,  0.1112,  0.0689,  0.0571,  0.0010,\n",
            "          0.0356, -0.0792,  0.0145, -0.0110, -0.0049, -0.1070, -0.0573, -0.1212],\n",
            "        [-0.0849,  0.0155, -0.0642, -0.1159,  0.0480, -0.0084, -0.0579,  0.0117,\n",
            "         -0.0632, -0.0528,  0.0691,  0.0765, -0.0660, -0.1191, -0.0520, -0.0155,\n",
            "          0.0305,  0.1192,  0.0921,  0.0597, -0.0772, -0.0340,  0.0374, -0.1037,\n",
            "         -0.0927,  0.0793, -0.1172, -0.1219, -0.0977, -0.0097,  0.0126, -0.0051,\n",
            "         -0.0363,  0.0652,  0.0438, -0.1055,  0.0099,  0.0446,  0.0161,  0.0963,\n",
            "          0.0038, -0.1206,  0.1055,  0.1070,  0.0656,  0.1086,  0.0930,  0.0561,\n",
            "          0.0117, -0.0515, -0.0320,  0.1163, -0.0234, -0.0303, -0.0764,  0.0404,\n",
            "         -0.0212,  0.0752, -0.1086,  0.1197, -0.0234, -0.0247, -0.0466,  0.0690],\n",
            "        [-0.1169,  0.1189,  0.0357, -0.1057, -0.0171,  0.0558, -0.0171, -0.0801,\n",
            "          0.0864,  0.1211,  0.0902,  0.0642,  0.0124,  0.1194, -0.0627, -0.1158,\n",
            "          0.0228,  0.0882,  0.0942, -0.1245,  0.0971, -0.0920, -0.0979,  0.0287,\n",
            "          0.0090, -0.0194, -0.1063, -0.1229, -0.0869,  0.1026, -0.0271, -0.0488,\n",
            "         -0.1104,  0.0301,  0.0584, -0.0782,  0.0392, -0.0065, -0.0312,  0.0184,\n",
            "          0.0088,  0.0374, -0.0255,  0.0629, -0.0364, -0.1070, -0.0774,  0.0102,\n",
            "          0.0984,  0.1249, -0.1178,  0.1011,  0.0211, -0.0650, -0.0228,  0.0361,\n",
            "          0.0423, -0.0423,  0.1043,  0.1167, -0.0279, -0.0694, -0.0862, -0.0621],\n",
            "        [ 0.0537,  0.0487,  0.0234, -0.0883,  0.0622, -0.0617, -0.0048, -0.0197,\n",
            "         -0.0655, -0.0863,  0.0526, -0.0845, -0.0638,  0.0895,  0.0254,  0.0640,\n",
            "         -0.0186, -0.0219,  0.0229,  0.1085,  0.0123, -0.0108,  0.0864,  0.0807,\n",
            "          0.1085,  0.0161,  0.0013, -0.0060, -0.0414,  0.1129,  0.0013,  0.0379,\n",
            "         -0.0554,  0.0056,  0.0786,  0.0409, -0.0590, -0.0984, -0.1029,  0.0695,\n",
            "         -0.0267, -0.0716,  0.0917, -0.0404, -0.1122,  0.0787,  0.0804, -0.0311,\n",
            "          0.1207,  0.0436,  0.0110, -0.0339, -0.1231,  0.0003,  0.0430,  0.0116,\n",
            "          0.1094,  0.1091,  0.0283,  0.0462, -0.0372,  0.0290,  0.0838, -0.0725]],\n",
            "       requires_grad=True), Shape: torch.Size([7, 64])\n"
          ]
        }
      ],
      "source": [
        "for name, param in model.named_parameters():\n",
        "    print(f\"Name: {name}, Value: {param}, Shape: {param.shape}\")\n"
      ]
    },
    {
      "cell_type": "markdown",
      "metadata": {
        "id": "mC6AllhwmpbP"
      },
      "source": [
        "# 4. Training & Evaluation"
      ]
    },
    {
      "cell_type": "markdown",
      "metadata": {
        "id": "ogQYCOu6Cem-"
      },
      "source": [
        "## 4.1 Evaluation metric\n"
      ]
    },
    {
      "cell_type": "code",
      "execution_count": 31,
      "metadata": {
        "id": "t2JkqGYpywij"
      },
      "outputs": [],
      "source": [
        "def accuracy(y_hat,y): # evaluation metric\n",
        "  preds = torch.max(y_hat, 1)[1]\n",
        "  return torch.mean((y == preds).float())"
      ]
    },
    {
      "cell_type": "markdown",
      "metadata": {
        "id": "1VStjlGjChe2"
      },
      "source": [
        "## 4.2 Training settings"
      ]
    },
    {
      "cell_type": "code",
      "execution_count": 32,
      "metadata": {
        "id": "IaZZTqWMfLIA"
      },
      "outputs": [],
      "source": [
        "# training set up\n",
        "optimizer = torch.optim.Adam(model.parameters(), lr=1e-3, weight_decay=5e-4)\n",
        "criterion = torch.nn.CrossEntropyLoss()\n",
        "\n",
        "epoches = 3000\n",
        "verbose_step = 15\n",
        "num_grad_steps = 0\n",
        "loss_history = []\n",
        "\n",
        "train_acc_history = []\n",
        "val_acc_history = []\n",
        "test_acc_history = []"
      ]
    },
    {
      "cell_type": "markdown",
      "metadata": {
        "id": "gZk2SvjCCmPQ"
      },
      "source": [
        "## 4.3 Training"
      ]
    },
    {
      "cell_type": "code",
      "execution_count": 33,
      "metadata": {
        "id": "ZXdfQhr9mquE"
      },
      "outputs": [
        {
          "name": "stdout",
          "output_type": "stream",
          "text": [
            "[15], Loss: 1.970,train accuracy: 0.157,validation accuracy: 0.122,test accuracy: 0.119\n",
            "[30], Loss: 1.935,train accuracy: 0.214,validation accuracy: 0.184,test accuracy: 0.171\n",
            "[45], Loss: 1.913,train accuracy: 0.207,validation accuracy: 0.176,test accuracy: 0.178\n",
            "[60], Loss: 1.931,train accuracy: 0.171,validation accuracy: 0.164,test accuracy: 0.146\n",
            "[75], Loss: 1.933,train accuracy: 0.207,validation accuracy: 0.234,test accuracy: 0.193\n",
            "[90], Loss: 1.884,train accuracy: 0.314,validation accuracy: 0.244,test accuracy: 0.244\n",
            "[105], Loss: 1.873,train accuracy: 0.329,validation accuracy: 0.216,test accuracy: 0.218\n",
            "[120], Loss: 1.864,train accuracy: 0.386,validation accuracy: 0.300,test accuracy: 0.269\n",
            "[135], Loss: 1.863,train accuracy: 0.357,validation accuracy: 0.268,test accuracy: 0.275\n",
            "[150], Loss: 1.838,train accuracy: 0.429,validation accuracy: 0.274,test accuracy: 0.288\n",
            "[165], Loss: 1.818,train accuracy: 0.471,validation accuracy: 0.318,test accuracy: 0.334\n",
            "[180], Loss: 1.811,train accuracy: 0.443,validation accuracy: 0.334,test accuracy: 0.317\n",
            "[195], Loss: 1.786,train accuracy: 0.514,validation accuracy: 0.318,test accuracy: 0.321\n",
            "[210], Loss: 1.781,train accuracy: 0.529,validation accuracy: 0.382,test accuracy: 0.356\n",
            "[225], Loss: 1.749,train accuracy: 0.493,validation accuracy: 0.364,test accuracy: 0.388\n",
            "[240], Loss: 1.682,train accuracy: 0.629,validation accuracy: 0.368,test accuracy: 0.386\n",
            "[255], Loss: 1.665,train accuracy: 0.586,validation accuracy: 0.384,test accuracy: 0.422\n",
            "[270], Loss: 1.638,train accuracy: 0.614,validation accuracy: 0.418,test accuracy: 0.429\n",
            "[285], Loss: 1.576,train accuracy: 0.650,validation accuracy: 0.400,test accuracy: 0.422\n",
            "[300], Loss: 1.566,train accuracy: 0.593,validation accuracy: 0.406,test accuracy: 0.434\n",
            "[315], Loss: 1.491,train accuracy: 0.571,validation accuracy: 0.418,test accuracy: 0.431\n",
            "[330], Loss: 1.437,train accuracy: 0.657,validation accuracy: 0.478,test accuracy: 0.469\n",
            "[345], Loss: 1.354,train accuracy: 0.643,validation accuracy: 0.500,test accuracy: 0.477\n",
            "[360], Loss: 1.271,train accuracy: 0.650,validation accuracy: 0.504,test accuracy: 0.506\n",
            "[375], Loss: 1.192,train accuracy: 0.707,validation accuracy: 0.502,test accuracy: 0.518\n",
            "[390], Loss: 1.163,train accuracy: 0.650,validation accuracy: 0.566,test accuracy: 0.527\n",
            "[405], Loss: 1.177,train accuracy: 0.714,validation accuracy: 0.544,test accuracy: 0.535\n",
            "[420], Loss: 1.004,train accuracy: 0.750,validation accuracy: 0.538,test accuracy: 0.560\n",
            "[435], Loss: 1.054,train accuracy: 0.664,validation accuracy: 0.526,test accuracy: 0.555\n",
            "[450], Loss: 0.942,train accuracy: 0.779,validation accuracy: 0.560,test accuracy: 0.613\n",
            "[465], Loss: 0.928,train accuracy: 0.750,validation accuracy: 0.566,test accuracy: 0.560\n",
            "[480], Loss: 0.912,train accuracy: 0.736,validation accuracy: 0.562,test accuracy: 0.576\n",
            "[495], Loss: 0.859,train accuracy: 0.779,validation accuracy: 0.604,test accuracy: 0.636\n",
            "[510], Loss: 0.914,train accuracy: 0.743,validation accuracy: 0.596,test accuracy: 0.606\n",
            "[525], Loss: 0.783,train accuracy: 0.757,validation accuracy: 0.552,test accuracy: 0.563\n",
            "[540], Loss: 0.840,train accuracy: 0.771,validation accuracy: 0.568,test accuracy: 0.583\n",
            "[555], Loss: 0.810,train accuracy: 0.800,validation accuracy: 0.608,test accuracy: 0.625\n",
            "[570], Loss: 0.789,train accuracy: 0.786,validation accuracy: 0.602,test accuracy: 0.625\n",
            "[585], Loss: 0.698,train accuracy: 0.821,validation accuracy: 0.600,test accuracy: 0.619\n",
            "[600], Loss: 0.900,train accuracy: 0.764,validation accuracy: 0.610,test accuracy: 0.584\n",
            "[615], Loss: 0.608,train accuracy: 0.836,validation accuracy: 0.624,test accuracy: 0.641\n",
            "[630], Loss: 0.707,train accuracy: 0.821,validation accuracy: 0.586,test accuracy: 0.636\n",
            "[645], Loss: 0.649,train accuracy: 0.879,validation accuracy: 0.672,test accuracy: 0.660\n",
            "[660], Loss: 0.639,train accuracy: 0.850,validation accuracy: 0.602,test accuracy: 0.616\n",
            "[675], Loss: 0.687,train accuracy: 0.821,validation accuracy: 0.606,test accuracy: 0.621\n",
            "[690], Loss: 0.670,train accuracy: 0.821,validation accuracy: 0.606,test accuracy: 0.639\n",
            "[705], Loss: 0.599,train accuracy: 0.807,validation accuracy: 0.624,test accuracy: 0.623\n",
            "[720], Loss: 0.563,train accuracy: 0.893,validation accuracy: 0.640,test accuracy: 0.649\n",
            "[735], Loss: 0.609,train accuracy: 0.836,validation accuracy: 0.640,test accuracy: 0.651\n",
            "[750], Loss: 0.726,train accuracy: 0.914,validation accuracy: 0.662,test accuracy: 0.657\n",
            "[765], Loss: 0.613,train accuracy: 0.843,validation accuracy: 0.610,test accuracy: 0.665\n",
            "[780], Loss: 0.613,train accuracy: 0.850,validation accuracy: 0.650,test accuracy: 0.669\n",
            "[795], Loss: 0.602,train accuracy: 0.864,validation accuracy: 0.662,test accuracy: 0.656\n",
            "[810], Loss: 0.531,train accuracy: 0.850,validation accuracy: 0.638,test accuracy: 0.642\n",
            "[825], Loss: 0.677,train accuracy: 0.807,validation accuracy: 0.662,test accuracy: 0.675\n",
            "[840], Loss: 0.531,train accuracy: 0.886,validation accuracy: 0.644,test accuracy: 0.668\n",
            "[855], Loss: 0.637,train accuracy: 0.814,validation accuracy: 0.646,test accuracy: 0.667\n",
            "[870], Loss: 0.538,train accuracy: 0.886,validation accuracy: 0.670,test accuracy: 0.658\n",
            "[885], Loss: 0.582,train accuracy: 0.871,validation accuracy: 0.648,test accuracy: 0.669\n",
            "[900], Loss: 0.525,train accuracy: 0.879,validation accuracy: 0.642,test accuracy: 0.680\n",
            "[915], Loss: 0.690,train accuracy: 0.857,validation accuracy: 0.614,test accuracy: 0.687\n",
            "[930], Loss: 0.604,train accuracy: 0.864,validation accuracy: 0.650,test accuracy: 0.678\n",
            "[945], Loss: 0.522,train accuracy: 0.886,validation accuracy: 0.658,test accuracy: 0.666\n",
            "[960], Loss: 0.570,train accuracy: 0.864,validation accuracy: 0.670,test accuracy: 0.677\n",
            "[975], Loss: 0.487,train accuracy: 0.871,validation accuracy: 0.654,test accuracy: 0.682\n",
            "[990], Loss: 0.625,train accuracy: 0.821,validation accuracy: 0.688,test accuracy: 0.691\n",
            "[1005], Loss: 0.567,train accuracy: 0.850,validation accuracy: 0.686,test accuracy: 0.685\n",
            "[1020], Loss: 0.524,train accuracy: 0.836,validation accuracy: 0.638,test accuracy: 0.689\n",
            "[1035], Loss: 0.517,train accuracy: 0.893,validation accuracy: 0.674,test accuracy: 0.692\n",
            "[1050], Loss: 0.469,train accuracy: 0.893,validation accuracy: 0.656,test accuracy: 0.687\n",
            "[1065], Loss: 0.496,train accuracy: 0.879,validation accuracy: 0.680,test accuracy: 0.670\n",
            "[1080], Loss: 0.453,train accuracy: 0.864,validation accuracy: 0.672,test accuracy: 0.712\n",
            "[1095], Loss: 0.438,train accuracy: 0.879,validation accuracy: 0.628,test accuracy: 0.677\n",
            "[1110], Loss: 0.558,train accuracy: 0.871,validation accuracy: 0.626,test accuracy: 0.672\n",
            "[1125], Loss: 0.498,train accuracy: 0.886,validation accuracy: 0.682,test accuracy: 0.711\n",
            "[1140], Loss: 0.465,train accuracy: 0.879,validation accuracy: 0.664,test accuracy: 0.697\n",
            "[1155], Loss: 0.484,train accuracy: 0.871,validation accuracy: 0.690,test accuracy: 0.711\n",
            "[1170], Loss: 0.469,train accuracy: 0.893,validation accuracy: 0.692,test accuracy: 0.689\n",
            "[1185], Loss: 0.574,train accuracy: 0.836,validation accuracy: 0.656,test accuracy: 0.664\n",
            "[1200], Loss: 0.480,train accuracy: 0.907,validation accuracy: 0.654,test accuracy: 0.672\n",
            "[1215], Loss: 0.439,train accuracy: 0.864,validation accuracy: 0.682,test accuracy: 0.698\n",
            "[1230], Loss: 0.425,train accuracy: 0.914,validation accuracy: 0.692,test accuracy: 0.706\n",
            "[1245], Loss: 0.457,train accuracy: 0.921,validation accuracy: 0.684,test accuracy: 0.708\n",
            "[1260], Loss: 0.429,train accuracy: 0.871,validation accuracy: 0.680,test accuracy: 0.668\n",
            "[1275], Loss: 0.426,train accuracy: 0.886,validation accuracy: 0.668,test accuracy: 0.688\n",
            "[1290], Loss: 0.422,train accuracy: 0.921,validation accuracy: 0.642,test accuracy: 0.683\n",
            "[1305], Loss: 0.430,train accuracy: 0.907,validation accuracy: 0.702,test accuracy: 0.685\n",
            "[1320], Loss: 0.427,train accuracy: 0.914,validation accuracy: 0.694,test accuracy: 0.706\n",
            "[1335], Loss: 0.422,train accuracy: 0.900,validation accuracy: 0.700,test accuracy: 0.708\n",
            "[1350], Loss: 0.403,train accuracy: 0.893,validation accuracy: 0.682,test accuracy: 0.686\n",
            "[1365], Loss: 0.366,train accuracy: 0.893,validation accuracy: 0.684,test accuracy: 0.696\n",
            "[1380], Loss: 0.500,train accuracy: 0.843,validation accuracy: 0.698,test accuracy: 0.697\n",
            "[1395], Loss: 0.506,train accuracy: 0.886,validation accuracy: 0.698,test accuracy: 0.698\n",
            "[1410], Loss: 0.396,train accuracy: 0.893,validation accuracy: 0.686,test accuracy: 0.706\n",
            "[1425], Loss: 0.435,train accuracy: 0.893,validation accuracy: 0.684,test accuracy: 0.694\n",
            "[1440], Loss: 0.439,train accuracy: 0.893,validation accuracy: 0.670,test accuracy: 0.688\n",
            "[1455], Loss: 0.432,train accuracy: 0.893,validation accuracy: 0.680,test accuracy: 0.700\n",
            "[1470], Loss: 0.364,train accuracy: 0.914,validation accuracy: 0.678,test accuracy: 0.711\n",
            "[1485], Loss: 0.358,train accuracy: 0.907,validation accuracy: 0.700,test accuracy: 0.726\n",
            "[1500], Loss: 0.495,train accuracy: 0.871,validation accuracy: 0.678,test accuracy: 0.717\n",
            "[1515], Loss: 0.415,train accuracy: 0.929,validation accuracy: 0.660,test accuracy: 0.709\n",
            "[1530], Loss: 0.353,train accuracy: 0.907,validation accuracy: 0.690,test accuracy: 0.701\n",
            "[1545], Loss: 0.565,train accuracy: 0.914,validation accuracy: 0.664,test accuracy: 0.729\n",
            "[1560], Loss: 0.473,train accuracy: 0.907,validation accuracy: 0.706,test accuracy: 0.722\n",
            "[1575], Loss: 0.451,train accuracy: 0.864,validation accuracy: 0.708,test accuracy: 0.691\n",
            "[1590], Loss: 0.452,train accuracy: 0.864,validation accuracy: 0.702,test accuracy: 0.669\n",
            "[1605], Loss: 0.319,train accuracy: 0.943,validation accuracy: 0.660,test accuracy: 0.712\n",
            "[1620], Loss: 0.333,train accuracy: 0.886,validation accuracy: 0.704,test accuracy: 0.693\n",
            "[1635], Loss: 0.342,train accuracy: 0.914,validation accuracy: 0.704,test accuracy: 0.715\n",
            "[1650], Loss: 0.401,train accuracy: 0.921,validation accuracy: 0.678,test accuracy: 0.702\n",
            "[1665], Loss: 0.363,train accuracy: 0.921,validation accuracy: 0.706,test accuracy: 0.721\n",
            "[1680], Loss: 0.351,train accuracy: 0.929,validation accuracy: 0.676,test accuracy: 0.720\n",
            "[1695], Loss: 0.371,train accuracy: 0.914,validation accuracy: 0.700,test accuracy: 0.688\n",
            "[1710], Loss: 0.356,train accuracy: 0.907,validation accuracy: 0.694,test accuracy: 0.695\n",
            "[1725], Loss: 0.297,train accuracy: 0.950,validation accuracy: 0.726,test accuracy: 0.730\n",
            "[1740], Loss: 0.309,train accuracy: 0.914,validation accuracy: 0.670,test accuracy: 0.724\n",
            "[1755], Loss: 0.315,train accuracy: 0.914,validation accuracy: 0.714,test accuracy: 0.728\n",
            "[1770], Loss: 0.294,train accuracy: 0.936,validation accuracy: 0.686,test accuracy: 0.710\n",
            "[1785], Loss: 0.333,train accuracy: 0.914,validation accuracy: 0.692,test accuracy: 0.723\n",
            "[1800], Loss: 0.313,train accuracy: 0.921,validation accuracy: 0.708,test accuracy: 0.730\n",
            "[1815], Loss: 0.349,train accuracy: 0.907,validation accuracy: 0.686,test accuracy: 0.695\n",
            "[1830], Loss: 0.301,train accuracy: 0.900,validation accuracy: 0.708,test accuracy: 0.714\n",
            "[1845], Loss: 0.416,train accuracy: 0.886,validation accuracy: 0.662,test accuracy: 0.718\n",
            "[1860], Loss: 0.336,train accuracy: 0.929,validation accuracy: 0.718,test accuracy: 0.724\n",
            "[1875], Loss: 0.363,train accuracy: 0.936,validation accuracy: 0.688,test accuracy: 0.715\n",
            "[1890], Loss: 0.413,train accuracy: 0.907,validation accuracy: 0.718,test accuracy: 0.722\n",
            "[1905], Loss: 0.342,train accuracy: 0.929,validation accuracy: 0.716,test accuracy: 0.711\n",
            "[1920], Loss: 0.350,train accuracy: 0.893,validation accuracy: 0.668,test accuracy: 0.681\n",
            "[1935], Loss: 0.339,train accuracy: 0.921,validation accuracy: 0.686,test accuracy: 0.707\n",
            "[1950], Loss: 0.321,train accuracy: 0.921,validation accuracy: 0.718,test accuracy: 0.739\n",
            "[1965], Loss: 0.356,train accuracy: 0.950,validation accuracy: 0.730,test accuracy: 0.715\n",
            "[1980], Loss: 0.278,train accuracy: 0.943,validation accuracy: 0.700,test accuracy: 0.704\n",
            "[1995], Loss: 0.544,train accuracy: 0.936,validation accuracy: 0.718,test accuracy: 0.734\n",
            "[2010], Loss: 0.436,train accuracy: 0.921,validation accuracy: 0.706,test accuracy: 0.717\n",
            "[2025], Loss: 0.368,train accuracy: 0.950,validation accuracy: 0.716,test accuracy: 0.728\n",
            "[2040], Loss: 0.295,train accuracy: 0.943,validation accuracy: 0.720,test accuracy: 0.741\n",
            "[2055], Loss: 0.390,train accuracy: 0.907,validation accuracy: 0.710,test accuracy: 0.714\n",
            "[2070], Loss: 0.341,train accuracy: 0.921,validation accuracy: 0.682,test accuracy: 0.732\n",
            "[2085], Loss: 0.330,train accuracy: 0.936,validation accuracy: 0.696,test accuracy: 0.737\n",
            "[2100], Loss: 0.381,train accuracy: 0.893,validation accuracy: 0.692,test accuracy: 0.721\n",
            "[2115], Loss: 0.337,train accuracy: 0.921,validation accuracy: 0.690,test accuracy: 0.725\n",
            "[2130], Loss: 0.295,train accuracy: 0.957,validation accuracy: 0.698,test accuracy: 0.728\n",
            "[2145], Loss: 0.357,train accuracy: 0.943,validation accuracy: 0.680,test accuracy: 0.694\n",
            "[2160], Loss: 0.265,train accuracy: 0.950,validation accuracy: 0.686,test accuracy: 0.736\n",
            "[2175], Loss: 0.296,train accuracy: 0.921,validation accuracy: 0.702,test accuracy: 0.704\n",
            "[2190], Loss: 0.324,train accuracy: 0.914,validation accuracy: 0.672,test accuracy: 0.705\n",
            "[2205], Loss: 0.323,train accuracy: 0.943,validation accuracy: 0.690,test accuracy: 0.725\n",
            "[2220], Loss: 0.291,train accuracy: 0.929,validation accuracy: 0.710,test accuracy: 0.721\n",
            "[2235], Loss: 0.298,train accuracy: 0.943,validation accuracy: 0.666,test accuracy: 0.700\n",
            "[2250], Loss: 0.314,train accuracy: 0.900,validation accuracy: 0.676,test accuracy: 0.700\n",
            "[2265], Loss: 0.296,train accuracy: 0.929,validation accuracy: 0.666,test accuracy: 0.703\n",
            "[2280], Loss: 0.265,train accuracy: 0.943,validation accuracy: 0.710,test accuracy: 0.714\n",
            "[2295], Loss: 0.285,train accuracy: 0.964,validation accuracy: 0.678,test accuracy: 0.690\n",
            "[2310], Loss: 0.303,train accuracy: 0.936,validation accuracy: 0.704,test accuracy: 0.710\n",
            "[2325], Loss: 0.296,train accuracy: 0.936,validation accuracy: 0.692,test accuracy: 0.734\n",
            "[2340], Loss: 0.299,train accuracy: 0.964,validation accuracy: 0.708,test accuracy: 0.732\n",
            "[2355], Loss: 0.302,train accuracy: 0.929,validation accuracy: 0.724,test accuracy: 0.718\n",
            "[2370], Loss: 0.279,train accuracy: 0.950,validation accuracy: 0.698,test accuracy: 0.720\n",
            "[2385], Loss: 0.273,train accuracy: 0.950,validation accuracy: 0.684,test accuracy: 0.706\n",
            "[2400], Loss: 0.286,train accuracy: 0.957,validation accuracy: 0.706,test accuracy: 0.729\n",
            "[2415], Loss: 0.289,train accuracy: 0.950,validation accuracy: 0.744,test accuracy: 0.727\n",
            "[2430], Loss: 0.375,train accuracy: 0.929,validation accuracy: 0.730,test accuracy: 0.735\n",
            "[2445], Loss: 0.269,train accuracy: 0.971,validation accuracy: 0.718,test accuracy: 0.744\n",
            "[2460], Loss: 0.304,train accuracy: 0.950,validation accuracy: 0.698,test accuracy: 0.727\n",
            "[2475], Loss: 0.348,train accuracy: 0.921,validation accuracy: 0.688,test accuracy: 0.723\n",
            "[2490], Loss: 0.257,train accuracy: 0.943,validation accuracy: 0.680,test accuracy: 0.740\n",
            "[2505], Loss: 0.257,train accuracy: 0.957,validation accuracy: 0.732,test accuracy: 0.747\n",
            "[2520], Loss: 0.256,train accuracy: 0.971,validation accuracy: 0.722,test accuracy: 0.721\n",
            "[2535], Loss: 0.348,train accuracy: 0.943,validation accuracy: 0.704,test accuracy: 0.722\n",
            "[2550], Loss: 0.274,train accuracy: 0.943,validation accuracy: 0.698,test accuracy: 0.725\n",
            "[2565], Loss: 0.341,train accuracy: 0.936,validation accuracy: 0.702,test accuracy: 0.724\n",
            "[2580], Loss: 0.281,train accuracy: 0.936,validation accuracy: 0.716,test accuracy: 0.719\n",
            "[2595], Loss: 0.231,train accuracy: 0.957,validation accuracy: 0.762,test accuracy: 0.742\n",
            "[2610], Loss: 0.258,train accuracy: 0.914,validation accuracy: 0.722,test accuracy: 0.730\n",
            "[2625], Loss: 0.279,train accuracy: 0.929,validation accuracy: 0.702,test accuracy: 0.726\n",
            "[2640], Loss: 0.295,train accuracy: 0.936,validation accuracy: 0.712,test accuracy: 0.742\n",
            "[2655], Loss: 0.286,train accuracy: 0.921,validation accuracy: 0.730,test accuracy: 0.725\n",
            "[2670], Loss: 0.222,train accuracy: 0.957,validation accuracy: 0.702,test accuracy: 0.725\n",
            "[2685], Loss: 0.262,train accuracy: 0.950,validation accuracy: 0.694,test accuracy: 0.696\n",
            "[2700], Loss: 0.348,train accuracy: 0.921,validation accuracy: 0.716,test accuracy: 0.721\n",
            "[2715], Loss: 0.513,train accuracy: 0.907,validation accuracy: 0.698,test accuracy: 0.711\n",
            "[2730], Loss: 0.289,train accuracy: 0.943,validation accuracy: 0.692,test accuracy: 0.689\n",
            "[2745], Loss: 0.307,train accuracy: 0.936,validation accuracy: 0.692,test accuracy: 0.713\n",
            "[2760], Loss: 0.234,train accuracy: 0.957,validation accuracy: 0.694,test accuracy: 0.709\n",
            "[2775], Loss: 0.378,train accuracy: 0.921,validation accuracy: 0.702,test accuracy: 0.721\n",
            "[2790], Loss: 0.211,train accuracy: 0.957,validation accuracy: 0.720,test accuracy: 0.727\n",
            "[2805], Loss: 0.236,train accuracy: 0.957,validation accuracy: 0.736,test accuracy: 0.720\n",
            "[2820], Loss: 0.356,train accuracy: 0.907,validation accuracy: 0.702,test accuracy: 0.729\n",
            "[2835], Loss: 0.271,train accuracy: 0.943,validation accuracy: 0.672,test accuracy: 0.731\n",
            "[2850], Loss: 0.204,train accuracy: 0.964,validation accuracy: 0.710,test accuracy: 0.702\n",
            "[2865], Loss: 0.284,train accuracy: 0.950,validation accuracy: 0.692,test accuracy: 0.696\n",
            "[2880], Loss: 0.250,train accuracy: 0.950,validation accuracy: 0.704,test accuracy: 0.711\n",
            "[2895], Loss: 0.243,train accuracy: 0.964,validation accuracy: 0.708,test accuracy: 0.737\n",
            "[2910], Loss: 0.235,train accuracy: 0.943,validation accuracy: 0.696,test accuracy: 0.753\n",
            "[2925], Loss: 0.233,train accuracy: 0.943,validation accuracy: 0.730,test accuracy: 0.743\n",
            "[2940], Loss: 0.280,train accuracy: 0.943,validation accuracy: 0.726,test accuracy: 0.717\n",
            "[2955], Loss: 0.272,train accuracy: 0.936,validation accuracy: 0.724,test accuracy: 0.753\n",
            "[2970], Loss: 0.324,train accuracy: 0.893,validation accuracy: 0.730,test accuracy: 0.748\n",
            "[2985], Loss: 0.238,train accuracy: 0.936,validation accuracy: 0.724,test accuracy: 0.737\n",
            "[3000], Loss: 0.237,train accuracy: 0.957,validation accuracy: 0.698,test accuracy: 0.682\n"
          ]
        }
      ],
      "source": [
        "for i in range(epoches): # looping over epochs\n",
        "    model.train()\n",
        "\n",
        "    \n",
        "    y_pred = model(X)\n",
        "    loss = criterion(y_pred[train_mask], Y[train_mask])\n",
        "    optimizer.zero_grad()\n",
        "    loss.backward()\n",
        "    optimizer.step()\n",
        "    num_grad_steps += 1\n",
        "\n",
        "    loss_history.append(loss.item())\n",
        "\n",
        "    with torch.no_grad():\n",
        "        model.eval()\n",
        "\n",
        "        train_acc = accuracy(y_pred[train_mask], Y[train_mask]).item()\n",
        "        val_acc = accuracy(y_pred[val_mask], Y[val_mask]).item()\n",
        "        test_acc = accuracy(y_pred[test_mask], Y[test_mask]).item()\n",
        "\n",
        "        train_acc_history.append(train_acc)\n",
        "        val_acc_history.append(val_acc)\n",
        "        test_acc_history.append(test_acc)\n",
        "\n",
        "\n",
        "    if num_grad_steps % verbose_step == 0:\n",
        "        print('[{}], Loss: {:3.3f},train accuracy: {:3.3f},validation accuracy: {:3.3f},test accuracy: {:3.3f}'.format(num_grad_steps,loss.item(),train_acc,val_acc,test_acc))"
      ]
    },
    {
      "cell_type": "markdown",
      "metadata": {
        "id": "hWpL7x5YCpTT"
      },
      "source": [
        "# 5. Results/Plots"
      ]
    },
    {
      "cell_type": "code",
      "execution_count": 26,
      "metadata": {
        "colab": {
          "base_uri": "https://localhost:8080/",
          "height": 410
        },
        "id": "R4mOZYOukaxz",
        "outputId": "bf037dcb-acb3-4adf-88bc-72fcea94dda2"
      },
      "outputs": [
        {
          "data": {
            "image/png": "[encoded data removed]",
            "text/plain": [
              "<Figure size 800x400 with 1 Axes>"
            ]
          },
          "metadata": {},
          "output_type": "display_data"
        }
      ],
      "source": [
        "plt.figure(figsize=(8, 4))\n",
        "plt.plot(loss_history)\n",
        "plt.xlabel('Epoch')\n",
        "plt.ylabel('Loss')\n",
        "plt.title('Training Loss Curve')\n",
        "plt.show()"
      ]
    },
    {
      "cell_type": "code",
      "execution_count": 27,
      "metadata": {
        "colab": {
          "base_uri": "https://localhost:8080/",
          "height": 566
        },
        "id": "emU2BMOmJn5D",
        "outputId": "fbcde2a0-239d-491c-de14-54e2602afd7f"
      },
      "outputs": [
        {
          "data": {
            "image/png": "[encoded data removed]",
            "text/plain": [
              "<Figure size 1600x800 with 1 Axes>"
            ]
          },
          "metadata": {},
          "output_type": "display_data"
        }
      ],
      "source": [
        "plt.figure(figsize=(16, 8))\n",
        "plt.plot(train_acc_history)\n",
        "plt.plot(val_acc_history)\n",
        "plt.plot(test_acc_history)\n",
        "plt.xlabel('Epoch')\n",
        "plt.ylabel('Accuracy')\n",
        "plt.title('Accuracy Curve')\n",
        "plt.legend(['Train', 'Validation','Test'])\n",
        "plt.show()"
      ]
    },
    {
      "cell_type": "markdown",
      "metadata": {
        "id": "-1MGMjHJpiWT"
      },
      "source": [
        "# LOG\n",
        "## 1. first layer dropout rate 0.6\n",
        "loss doesn't go down, around 3.0, fixed when using their initialization method\n",
        "## 2. first layer dropout rate 0.4\n",
        "loss goes down, lowest around 0.25 (rk4) ,but a little slower than theirs\n",
        "\n",
        "## 3. Add self-loops to graph (this is what they do, but why?)\n",
        "* Since $H^{t+1} = \\hat{D}^{-1/2}\\hat{A}\\hat{D}^{-1/2}H^{t}\\Theta$, where $\\hat{A}=A+I$, which is the adjacency matrix for graph with self-loop\n",
        "* GCNConv will automatically do that, so I don't need do it manually.\n",
        "\n",
        "\n",
        "## 4. Try different odeint method rk4/dopri5\n",
        "* both rk4 and dopri5 give similar validation and test accuracy.\n",
        "* dopri5 provides smaller training loss (around 0.13), but it is much slower than rk4\n",
        "\n",
        "## 5. Try different integration time s = 5,10\n",
        "* s= 5 is not working for rk4 with both drop rate 0.4/0.6\n",
        "* when s>1, lr is set to 1e-2\n",
        "\n",
        "## 6. Try their code\n",
        "dgl does not support mps(gpu on mac), can't run code faster.\n",
        "\n",
        "## 7. Normalize the initial parameters\n",
        "* want to do that because when s=1 test accuracy is a little bit lower than their codes, and s=5 does not work.\n",
        "* add def reset_parameters in model\n",
        "* s=1, loss reduce faster but the test accuracy still around 0.75 (instead of 0.8 in their paper)\n",
        "\n",
        "\n",
        "## 8. Other experiments"
      ]
    },
    {
      "cell_type": "code",
      "execution_count": null,
      "metadata": {
        "id": "bwEptpcrU11-"
      },
      "outputs": [],
      "source": []
    }
  ],
  "metadata": {
    "colab": {
      "provenance": []
    },
    "kernelspec": {
      "display_name": "Python 3",
      "name": "python3"
    },
    "language_info": {
      "codemirror_mode": {
        "name": "ipython",
        "version": 3
      },
      "file_extension": ".py",
      "mimetype": "text/x-python",
      "name": "python",
      "nbconvert_exporter": "python",
      "pygments_lexer": "ipython3",
      "version": "3.9.13"
    },
    "widgets": {
      "application/vnd.jupyter.widget-state+json": {
        "1a143b0c7b8a461fa84dc0a43a6a27f9": {
          "model_module": "@jupyter-widgets/controls",
          "model_module_version": "1.5.0",
          "model_name": "DescriptionStyleModel",
          "state": {
            "_model_module": "@jupyter-widgets/controls",
            "_model_module_version": "1.5.0",
            "_model_name": "DescriptionStyleModel",
            "_view_count": null,
            "_view_module": "@jupyter-widgets/base",
            "_view_module_version": "1.2.0",
            "_view_name": "StyleView",
            "description_width": ""
          }
        },
        "388f7b104b114e7aa0dc09f81aa8881b": {
          "model_module": "@jupyter-widgets/base",
          "model_module_version": "1.2.0",
          "model_name": "LayoutModel",
          "state": {
            "_model_module": "@jupyter-widgets/base",
            "_model_module_version": "1.2.0",
            "_model_name": "LayoutModel",
            "_view_count": null,
            "_view_module": "@jupyter-widgets/base",
            "_view_module_version": "1.2.0",
            "_view_name": "LayoutView",
            "align_content": null,
            "align_items": null,
            "align_self": null,
            "border": null,
            "bottom": null,
            "display": null,
            "flex": null,
            "flex_flow": null,
            "grid_area": null,
            "grid_auto_columns": null,
            "grid_auto_flow": null,
            "grid_auto_rows": null,
            "grid_column": null,
            "grid_gap": null,
            "grid_row": null,
            "grid_template_areas": null,
            "grid_template_columns": null,
            "grid_template_rows": null,
            "height": null,
            "justify_content": null,
            "justify_items": null,
            "left": null,
            "margin": null,
            "max_height": null,
            "max_width": null,
            "min_height": null,
            "min_width": null,
            "object_fit": null,
            "object_position": null,
            "order": null,
            "overflow": null,
            "overflow_x": null,
            "overflow_y": null,
            "padding": null,
            "right": null,
            "top": null,
            "visibility": null,
            "width": null
          }
        },
        "630bfa3e1bb44a97ac9c2e427fb03e95": {
          "model_module": "@jupyter-widgets/controls",
          "model_module_version": "1.5.0",
          "model_name": "FloatProgressModel",
          "state": {
            "_dom_classes": [],
            "_model_module": "@jupyter-widgets/controls",
            "_model_module_version": "1.5.0",
            "_model_name": "FloatProgressModel",
            "_view_count": null,
            "_view_module": "@jupyter-widgets/controls",
            "_view_module_version": "1.5.0",
            "_view_name": "ProgressView",
            "bar_style": "success",
            "description": "",
            "description_tooltip": null,
            "layout": "IPY_MODEL_e7d6a0c5108f4f85af000c2abb197a43",
            "max": 132173,
            "min": 0,
            "orientation": "horizontal",
            "style": "IPY_MODEL_7f7c80f704724040bec5a26d61a32458",
            "value": 132173
          }
        },
        "7f7c80f704724040bec5a26d61a32458": {
          "model_module": "@jupyter-widgets/controls",
          "model_module_version": "1.5.0",
          "model_name": "ProgressStyleModel",
          "state": {
            "_model_module": "@jupyter-widgets/controls",
            "_model_module_version": "1.5.0",
            "_model_name": "ProgressStyleModel",
            "_view_count": null,
            "_view_module": "@jupyter-widgets/base",
            "_view_module_version": "1.2.0",
            "_view_name": "StyleView",
            "bar_color": null,
            "description_width": ""
          }
        },
        "8ce5b693531b4d0090eb74ce8a342bf3": {
          "model_module": "@jupyter-widgets/base",
          "model_module_version": "1.2.0",
          "model_name": "LayoutModel",
          "state": {
            "_model_module": "@jupyter-widgets/base",
            "_model_module_version": "1.2.0",
            "_model_name": "LayoutModel",
            "_view_count": null,
            "_view_module": "@jupyter-widgets/base",
            "_view_module_version": "1.2.0",
            "_view_name": "LayoutView",
            "align_content": null,
            "align_items": null,
            "align_self": null,
            "border": null,
            "bottom": null,
            "display": null,
            "flex": null,
            "flex_flow": null,
            "grid_area": null,
            "grid_auto_columns": null,
            "grid_auto_flow": null,
            "grid_auto_rows": null,
            "grid_column": null,
            "grid_gap": null,
            "grid_row": null,
            "grid_template_areas": null,
            "grid_template_columns": null,
            "grid_template_rows": null,
            "height": null,
            "justify_content": null,
            "justify_items": null,
            "left": null,
            "margin": null,
            "max_height": null,
            "max_width": null,
            "min_height": null,
            "min_width": null,
            "object_fit": null,
            "object_position": null,
            "order": null,
            "overflow": null,
            "overflow_x": null,
            "overflow_y": null,
            "padding": null,
            "right": null,
            "top": null,
            "visibility": null,
            "width": null
          }
        },
        "8fadd824cda04d16b17da45d31e07f17": {
          "model_module": "@jupyter-widgets/controls",
          "model_module_version": "1.5.0",
          "model_name": "DescriptionStyleModel",
          "state": {
            "_model_module": "@jupyter-widgets/controls",
            "_model_module_version": "1.5.0",
            "_model_name": "DescriptionStyleModel",
            "_view_count": null,
            "_view_module": "@jupyter-widgets/base",
            "_view_module_version": "1.2.0",
            "_view_name": "StyleView",
            "description_width": ""
          }
        },
        "b47ed4ff499d4fa6a6734342012ea0b4": {
          "model_module": "@jupyter-widgets/base",
          "model_module_version": "1.2.0",
          "model_name": "LayoutModel",
          "state": {
            "_model_module": "@jupyter-widgets/base",
            "_model_module_version": "1.2.0",
            "_model_name": "LayoutModel",
            "_view_count": null,
            "_view_module": "@jupyter-widgets/base",
            "_view_module_version": "1.2.0",
            "_view_name": "LayoutView",
            "align_content": null,
            "align_items": null,
            "align_self": null,
            "border": null,
            "bottom": null,
            "display": null,
            "flex": null,
            "flex_flow": null,
            "grid_area": null,
            "grid_auto_columns": null,
            "grid_auto_flow": null,
            "grid_auto_rows": null,
            "grid_column": null,
            "grid_gap": null,
            "grid_row": null,
            "grid_template_areas": null,
            "grid_template_columns": null,
            "grid_template_rows": null,
            "height": null,
            "justify_content": null,
            "justify_items": null,
            "left": null,
            "margin": null,
            "max_height": null,
            "max_width": null,
            "min_height": null,
            "min_width": null,
            "object_fit": null,
            "object_position": null,
            "order": null,
            "overflow": null,
            "overflow_x": null,
            "overflow_y": null,
            "padding": null,
            "right": null,
            "top": null,
            "visibility": null,
            "width": null
          }
        },
        "dc0b874c4f5a4627979bfdaabc87476b": {
          "model_module": "@jupyter-widgets/controls",
          "model_module_version": "1.5.0",
          "model_name": "HBoxModel",
          "state": {
            "_dom_classes": [],
            "_model_module": "@jupyter-widgets/controls",
            "_model_module_version": "1.5.0",
            "_model_name": "HBoxModel",
            "_view_count": null,
            "_view_module": "@jupyter-widgets/controls",
            "_view_module_version": "1.5.0",
            "_view_name": "HBoxView",
            "box_style": "",
            "children": [
              "IPY_MODEL_ecff7111ca97492fa612d434a5cac156",
              "IPY_MODEL_630bfa3e1bb44a97ac9c2e427fb03e95",
              "IPY_MODEL_ee2690ccac154dc1b41951d99ec296ee"
            ],
            "layout": "IPY_MODEL_b47ed4ff499d4fa6a6734342012ea0b4"
          }
        },
        "e7d6a0c5108f4f85af000c2abb197a43": {
          "model_module": "@jupyter-widgets/base",
          "model_module_version": "1.2.0",
          "model_name": "LayoutModel",
          "state": {
            "_model_module": "@jupyter-widgets/base",
            "_model_module_version": "1.2.0",
            "_model_name": "LayoutModel",
            "_view_count": null,
            "_view_module": "@jupyter-widgets/base",
            "_view_module_version": "1.2.0",
            "_view_name": "LayoutView",
            "align_content": null,
            "align_items": null,
            "align_self": null,
            "border": null,
            "bottom": null,
            "display": null,
            "flex": null,
            "flex_flow": null,
            "grid_area": null,
            "grid_auto_columns": null,
            "grid_auto_flow": null,
            "grid_auto_rows": null,
            "grid_column": null,
            "grid_gap": null,
            "grid_row": null,
            "grid_template_areas": null,
            "grid_template_columns": null,
            "grid_template_rows": null,
            "height": null,
            "justify_content": null,
            "justify_items": null,
            "left": null,
            "margin": null,
            "max_height": null,
            "max_width": null,
            "min_height": null,
            "min_width": null,
            "object_fit": null,
            "object_position": null,
            "order": null,
            "overflow": null,
            "overflow_x": null,
            "overflow_y": null,
            "padding": null,
            "right": null,
            "top": null,
            "visibility": null,
            "width": null
          }
        },
        "ecff7111ca97492fa612d434a5cac156": {
          "model_module": "@jupyter-widgets/controls",
          "model_module_version": "1.5.0",
          "model_name": "HTMLModel",
          "state": {
            "_dom_classes": [],
            "_model_module": "@jupyter-widgets/controls",
            "_model_module_version": "1.5.0",
            "_model_name": "HTMLModel",
            "_view_count": null,
            "_view_module": "@jupyter-widgets/controls",
            "_view_module_version": "1.5.0",
            "_view_name": "HTMLView",
            "description": "",
            "description_tooltip": null,
            "layout": "IPY_MODEL_388f7b104b114e7aa0dc09f81aa8881b",
            "placeholder": "​",
            "style": "IPY_MODEL_1a143b0c7b8a461fa84dc0a43a6a27f9",
            "value": "/root/.dgl/cora_v2.zip: 100%"
          }
        },
        "ee2690ccac154dc1b41951d99ec296ee": {
          "model_module": "@jupyter-widgets/controls",
          "model_module_version": "1.5.0",
          "model_name": "HTMLModel",
          "state": {
            "_dom_classes": [],
            "_model_module": "@jupyter-widgets/controls",
            "_model_module_version": "1.5.0",
            "_model_name": "HTMLModel",
            "_view_count": null,
            "_view_module": "@jupyter-widgets/controls",
            "_view_module_version": "1.5.0",
            "_view_name": "HTMLView",
            "description": "",
            "description_tooltip": null,
            "layout": "IPY_MODEL_8ce5b693531b4d0090eb74ce8a342bf3",
            "placeholder": "​",
            "style": "IPY_MODEL_8fadd824cda04d16b17da45d31e07f17",
            "value": " 132k/132k [00:00&lt;00:00, 2.18MB/s]"
          }
        }
      }
    }
  },
  "nbformat": 4,
  "nbformat_minor": 0
}
